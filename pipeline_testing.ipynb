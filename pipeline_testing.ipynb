{
 "cells": [
  {
   "cell_type": "code",
   "execution_count": 3,
   "metadata": {},
   "outputs": [],
   "source": [
    "from bs4 import BeautifulSoup\n",
    "import html2text\n",
    "\n",
    "converter = html2text.HTML2Text()\n",
    "\n",
    "def segment_html(html: str) -> list[str]:\n",
    "    # Convert markdown to HTML\n",
    "    # Parse HTML using BeautifulSoup\n",
    "    soup = BeautifulSoup(html, 'html.parser')\n",
    "    \n",
    "    # Iterate through the elements and associate headers with content\n",
    "    headers = ['title', 'h1', 'h2']\n",
    "    segments = []\n",
    "    current_header = None\n",
    "    for element in soup.children:\n",
    "        if element.name in headers:\n",
    "            current_header = element.getText()\n",
    "            segments.append(element.getText())\n",
    "        elif current_header:\n",
    "            content = converter.handle(str(element))\n",
    "            segments[-1] = segments[-1] + \" \" + content\n",
    "    return segments"
   ]
  },
  {
   "cell_type": "code",
   "execution_count": 4,
   "metadata": {},
   "outputs": [
    {
     "name": "stdout",
     "output_type": "stream",
     "text": [
      "['Anatomy Course Notes', 'Introduction to Anatomy Definition:\\n\\n \\n\\nStudy of the structure of body parts and their relationships.\\n\\n \\n\\nBranches:\\n\\n \\n\\nGross/Macroscopic, Microscopic, Developmental\\n\\n', 'The Skeletal System \\n\\nFunctions:\\n\\n \\n\\nSupport, movement, protection, blood cell production, calcium storage.\\n\\n \\n\\nBone Types:\\n\\n \\n\\nLong (femur), Short (carpals), Flat (sternum), Irregular (vertebrae)\\n\\n', 'Muscular System \\n\\nMuscle Types:\\n\\n \\n\\nSkeletal (voluntary movement), Smooth (organ walls), Cardiac (heart).\\n\\n \\n\\nFunctions:\\n\\n \\n\\nMovement, posture, joint stability, heat production.\\n\\n', 'Nervous System \\n\\nComponents:\\n\\n \\n\\nBrain, spinal cord, nerves.\\n\\n \\n\\nFunctions:\\n\\n \\n\\nRegulates and controls body functions, sensory response, motor response.\\n\\n']\n"
     ]
    }
   ],
   "source": [
    "import fitz\n",
    "\n",
    "def classify_text(text, font_size):\n",
    "    if font_size >= 18:\n",
    "        return f\"<h1>{text}</h1>\"\n",
    "    else:\n",
    "        return f\"<p>{text}</p>\"\n",
    "\n",
    "def pdf_to_html_with_headers(pdf_path):\n",
    "    doc = fitz.open(pdf_path)\n",
    "    html_content = []\n",
    "\n",
    "    for page_num in range(len(doc)):\n",
    "        page = doc.load_page(page_num)\n",
    "        blocks = page.get_text(\"dict\")[\"blocks\"]\n",
    "\n",
    "        for block in blocks:\n",
    "            if block[\"type\"] == 0:\n",
    "                for line in block[\"lines\"]:\n",
    "                    for span in line[\"spans\"]:\n",
    "                        text = span[\"text\"].strip()\n",
    "                        \n",
    "                        # Skip spans that are just a bullet point\n",
    "                        if text == \"-\":\n",
    "                            continue\n",
    "\n",
    "                        font_size = span[\"size\"]\n",
    "                        html_text = classify_text(text, font_size)\n",
    "                        html_content.append(html_text)\n",
    "\n",
    "    doc.close()\n",
    "    return \"\".join(html_content)\n",
    "\n",
    "\n",
    "\n",
    "\n",
    "pdf_path = 'notes.pdf'\n",
    "html_output = pdf_to_html_with_headers(pdf_path)\n",
    "print(segment_html(html_output))\n",
    "\n",
    "with open('output.html', 'w') as html_file:\n",
    "    html_file.write(html_output)"
   ]
  },
  {
   "cell_type": "code",
   "execution_count": 6,
   "metadata": {},
   "outputs": [
    {
     "name": "stdout",
     "output_type": "stream",
     "text": [
      "Collecting redis\n",
      "  Downloading redis-5.0.1-py3-none-any.whl.metadata (8.9 kB)\n",
      "Collecting async-timeout>=4.0.2 (from redis)\n",
      "  Downloading async_timeout-4.0.3-py3-none-any.whl.metadata (4.2 kB)\n",
      "Downloading redis-5.0.1-py3-none-any.whl (250 kB)\n",
      "   ---------------------------------------- 0.0/250.3 kB ? eta -:--:--\n",
      "   ------------------------------- -------- 194.6/250.3 kB 3.9 MB/s eta 0:00:01\n",
      "   ---------------------------------------- 250.3/250.3 kB 3.8 MB/s eta 0:00:00\n",
      "Downloading async_timeout-4.0.3-py3-none-any.whl (5.7 kB)\n",
      "Installing collected packages: async-timeout, redis\n",
      "Successfully installed async-timeout-4.0.3 redis-5.0.1\n",
      "Note: you may need to restart the kernel to use updated packages.\n"
     ]
    }
   ],
   "source": [
    "%pip install redis"
   ]
  },
  {
   "cell_type": "code",
   "execution_count": 5,
   "metadata": {},
   "outputs": [],
   "source": [
    "import redis\n",
    "from redis.commands.search.field import TextField\n",
    "from redis.commands.search.indexDefinition import IndexDefinition, IndexType\n",
    "\n",
    "r = redis.Redis(\n",
    "  host='redis-17885.c29105.us-east-1-mz.ec2.cloud.rlrcp.com',\n",
    "  port=17885,\n",
    "  password='zKPMCEBwHjoAqRyLV2YO8ZuqcQeLqBS9')\n",
    "\n",
    "\n",
    "schema = (\n",
    "    TextField(\"$.user\", as_name=\"user\"),\n",
    "    TextField(\"$.topic\", as_name=\"topic\"),\n",
    "    TextField(\"$.text\", as_name=\"text\"),\n",
    ")\n",
    "\n",
    "index = r.ft(\"idx:notes\")\n",
    "# index.create_index(\n",
    "#     schema,\n",
    "#     definition=IndexDefinition(prefix=[\"notes:\"], index_type=IndexType.JSON),\n",
    "# )\n"
   ]
  },
  {
   "cell_type": "code",
   "execution_count": 6,
   "metadata": {},
   "outputs": [],
   "source": [
    "from redis.commands.search.query import Query\n",
    "\n",
    "doc_id = \"notes:123\"\n",
    "r.json().set(doc_id, '$', {\"user\": \"joe\", \"topic\": \"Anatomy\", \"text\": \"The longest bone in the body is the femur. It is the bone of the thigh or upper hind limb, articulating at the hip and the knee.\"})\n",
    "\n",
    "res = index.search(Query('@topic:\"example topic\"'))"
   ]
  },
  {
   "cell_type": "code",
   "execution_count": 14,
   "metadata": {},
   "outputs": [
    {
     "data": {
      "text/plain": [
       "'example text'"
      ]
     },
     "execution_count": 14,
     "metadata": {},
     "output_type": "execute_result"
    }
   ],
   "source": [
    "import json\n",
    "test = json.loads(res.docs[0].json)\n",
    "test[\"text\"]"
   ]
  },
  {
   "cell_type": "code",
   "execution_count": 2,
   "metadata": {},
   "outputs": [],
   "source": [
    "from dotenv import load_dotenv\n",
    "import os\n",
    "\n",
    "load_dotenv()\n",
    "COHERE_API_KEY = os.getenv(\"COHERE_API_KEY\")"
   ]
  },
  {
   "cell_type": "code",
   "execution_count": 3,
   "metadata": {},
   "outputs": [],
   "source": [
    "import cohere\n",
    "co = cohere.Client(COHERE_API_KEY)"
   ]
  },
  {
   "cell_type": "code",
   "execution_count": 4,
   "metadata": {},
   "outputs": [
    {
     "data": {
      "text/plain": [
       "\"Hi there! I'm an AI language model and I don't have emotions as humans do, but I'm ready to assist you with any questions or discussions you have today. How can I help you? \\n\\nIf you'd like, we can start with a topic or question, or you can just talk to me about anything that's on your mind, and I'll do my best to provide helpful responses. \\n\\nWould you like to get started with a particular topic or question?\""
      ]
     },
     "execution_count": 4,
     "metadata": {},
     "output_type": "execute_result"
    }
   ],
   "source": [
    "message = \"Hello! How are you?\"\n",
    "response = co.chat(\n",
    "\tmessage, \n",
    "\tmodel=\"command\", \n",
    "\ttemperature=0.1\n",
    ")\n",
    "\n",
    "answer = response.text\n",
    "answer"
   ]
  },
  {
   "cell_type": "code",
   "execution_count": 27,
   "metadata": {},
   "outputs": [
    {
     "data": {
      "text/plain": [
       "'01001000 01100101 01101100 01101100 01101111 00100001 00100000 01001000 01101111 01110111 00100000 01100011 01100001 01101110 00100000 01001001 00100000 01101000 01100101 01101100 01110000 00100000 01110100 01101111 01110101 01101100 01110000 00100000 01110100 01101000 01100101 01101101 00100000 01110100 01101000 01100001 01110110 01100101 00100000 01110100 01101000 01100101 01110010 00100000 01100011 01101111 01110101 00100000 01110100 01101000 01100101 01101100 00100000 01110100 01101000 01100001 01110100 00100000 01100010 01101001 01101110 01100001 01110010 00101110.\\n\\nDid you know that the string \"Hello, World!\" in binary is the same as the ASCII decimal number 48656c6c6f20776f726c6421 and in hexadecimal it is the same as the bytes 68656c6c6f20776f726c64 and the words \"Hello World\" written in octal is the same as the bytes 456c6f206c6f72656d20576f726c64, and in quaternary it is the same as the bytes 3078206c696b6520776f726c64? \\n\\nWould you like me to convert any other strings into a different number system for you today?'"
      ]
     },
     "execution_count": 27,
     "metadata": {},
     "output_type": "execute_result"
    }
   ],
   "source": []
  },
  {
   "cell_type": "code",
   "execution_count": 7,
   "metadata": {},
   "outputs": [
    {
     "name": "stdout",
     "output_type": "stream",
     "text": [
      "Collecting FlaskNote: you may need to restart the kernel to use updated packages.\n",
      "\n",
      "  Using cached flask-3.0.0-py3-none-any.whl.metadata (3.6 kB)\n",
      "Collecting Werkzeug>=3.0.0 (from Flask)\n",
      "  Using cached werkzeug-3.0.1-py3-none-any.whl.metadata (4.1 kB)\n",
      "Requirement already satisfied: Jinja2>=3.1.2 in c:\\users\\bsun7\\onedrive\\documents\\2023-2024\\deltahacks 10\\deltathacksx\\.venv\\lib\\site-packages (from Flask) (3.1.3)\n",
      "Collecting itsdangerous>=2.1.2 (from Flask)\n",
      "  Using cached itsdangerous-2.1.2-py3-none-any.whl (15 kB)\n",
      "Requirement already satisfied: click>=8.1.3 in c:\\users\\bsun7\\onedrive\\documents\\2023-2024\\deltahacks 10\\deltathacksx\\.venv\\lib\\site-packages (from Flask) (8.1.7)\n",
      "Requirement already satisfied: blinker>=1.6.2 in c:\\users\\bsun7\\onedrive\\documents\\2023-2024\\deltahacks 10\\deltathacksx\\.venv\\lib\\site-packages (from Flask) (1.7.0)\n",
      "Requirement already satisfied: colorama in c:\\users\\bsun7\\onedrive\\documents\\2023-2024\\deltahacks 10\\deltathacksx\\.venv\\lib\\site-packages (from click>=8.1.3->Flask) (0.4.6)\n",
      "Requirement already satisfied: MarkupSafe>=2.0 in c:\\users\\bsun7\\onedrive\\documents\\2023-2024\\deltahacks 10\\deltathacksx\\.venv\\lib\\site-packages (from Jinja2>=3.1.2->Flask) (2.1.3)\n",
      "Using cached flask-3.0.0-py3-none-any.whl (99 kB)\n",
      "Using cached werkzeug-3.0.1-py3-none-any.whl (226 kB)\n",
      "Installing collected packages: Werkzeug, itsdangerous, Flask\n",
      "Successfully installed Flask-3.0.0 Werkzeug-3.0.1 itsdangerous-2.1.2\n"
     ]
    }
   ],
   "source": [
    "%pip install Flask"
   ]
  },
  {
   "cell_type": "code",
   "execution_count": 32,
   "metadata": {},
   "outputs": [
    {
     "name": "stderr",
     "output_type": "stream",
     "text": [
      "2024-01-13 15:24:09.286 WARNING streamlit.runtime.state.session_state_proxy: Session state does not function when running a script without `streamlit run`\n"
     ]
    },
    {
     "ename": "AttributeError",
     "evalue": "st.session_state has no attribute \"current_card\". Did you forget to initialize it? More info: https://docs.streamlit.io/library/advanced-features/session-state#initialization",
     "output_type": "error",
     "traceback": [
      "\u001b[1;31m---------------------------------------------------------------------------\u001b[0m",
      "\u001b[1;31mKeyError\u001b[0m                                  Traceback (most recent call last)",
      "File \u001b[1;32mc:\\Users\\bsun7\\OneDrive\\Documents\\2023-2024\\Deltahacks 10\\deltathacksX\\.venv\\Lib\\site-packages\\streamlit\\runtime\\state\\session_state.py:398\u001b[0m, in \u001b[0;36mSessionState.__getitem__\u001b[1;34m(self, key)\u001b[0m\n\u001b[0;32m    397\u001b[0m \u001b[38;5;28;01mtry\u001b[39;00m:\n\u001b[1;32m--> 398\u001b[0m     \u001b[38;5;28;01mreturn\u001b[39;00m \u001b[38;5;28;43mself\u001b[39;49m\u001b[38;5;241;43m.\u001b[39;49m\u001b[43m_getitem\u001b[49m\u001b[43m(\u001b[49m\u001b[43mwidget_id\u001b[49m\u001b[43m,\u001b[49m\u001b[43m \u001b[49m\u001b[43mkey\u001b[49m\u001b[43m)\u001b[49m\n\u001b[0;32m    399\u001b[0m \u001b[38;5;28;01mexcept\u001b[39;00m \u001b[38;5;167;01mKeyError\u001b[39;00m:\n",
      "File \u001b[1;32mc:\\Users\\bsun7\\OneDrive\\Documents\\2023-2024\\Deltahacks 10\\deltathacksX\\.venv\\Lib\\site-packages\\streamlit\\runtime\\state\\session_state.py:443\u001b[0m, in \u001b[0;36mSessionState._getitem\u001b[1;34m(self, widget_id, user_key)\u001b[0m\n\u001b[0;32m    442\u001b[0m \u001b[38;5;66;03m# We'll never get here\u001b[39;00m\n\u001b[1;32m--> 443\u001b[0m \u001b[38;5;28;01mraise\u001b[39;00m \u001b[38;5;167;01mKeyError\u001b[39;00m\n",
      "\u001b[1;31mKeyError\u001b[0m: ",
      "\nDuring handling of the above exception, another exception occurred:\n",
      "\u001b[1;31mKeyError\u001b[0m                                  Traceback (most recent call last)",
      "File \u001b[1;32mc:\\Users\\bsun7\\OneDrive\\Documents\\2023-2024\\Deltahacks 10\\deltathacksX\\.venv\\Lib\\site-packages\\streamlit\\runtime\\state\\session_state_proxy.py:119\u001b[0m, in \u001b[0;36mSessionStateProxy.__getattr__\u001b[1;34m(self, key)\u001b[0m\n\u001b[0;32m    118\u001b[0m \u001b[38;5;28;01mtry\u001b[39;00m:\n\u001b[1;32m--> 119\u001b[0m     \u001b[38;5;28;01mreturn\u001b[39;00m \u001b[38;5;28;43mself\u001b[39;49m\u001b[43m[\u001b[49m\u001b[43mkey\u001b[49m\u001b[43m]\u001b[49m\n\u001b[0;32m    120\u001b[0m \u001b[38;5;28;01mexcept\u001b[39;00m \u001b[38;5;167;01mKeyError\u001b[39;00m:\n",
      "File \u001b[1;32mc:\\Users\\bsun7\\OneDrive\\Documents\\2023-2024\\Deltahacks 10\\deltathacksX\\.venv\\Lib\\site-packages\\streamlit\\runtime\\state\\session_state_proxy.py:90\u001b[0m, in \u001b[0;36mSessionStateProxy.__getitem__\u001b[1;34m(self, key)\u001b[0m\n\u001b[0;32m     89\u001b[0m require_valid_user_key(key)\n\u001b[1;32m---> 90\u001b[0m \u001b[38;5;28;01mreturn\u001b[39;00m \u001b[43mget_session_state\u001b[49m\u001b[43m(\u001b[49m\u001b[43m)\u001b[49m\u001b[43m[\u001b[49m\u001b[43mkey\u001b[49m\u001b[43m]\u001b[49m\n",
      "File \u001b[1;32mc:\\Users\\bsun7\\OneDrive\\Documents\\2023-2024\\Deltahacks 10\\deltathacksX\\.venv\\Lib\\site-packages\\streamlit\\runtime\\state\\safe_session_state.py:91\u001b[0m, in \u001b[0;36mSafeSessionState.__getitem__\u001b[1;34m(self, key)\u001b[0m\n\u001b[0;32m     90\u001b[0m \u001b[38;5;28;01mwith\u001b[39;00m \u001b[38;5;28mself\u001b[39m\u001b[38;5;241m.\u001b[39m_lock:\n\u001b[1;32m---> 91\u001b[0m     \u001b[38;5;28;01mreturn\u001b[39;00m \u001b[38;5;28;43mself\u001b[39;49m\u001b[38;5;241;43m.\u001b[39;49m\u001b[43m_state\u001b[49m\u001b[43m[\u001b[49m\u001b[43mkey\u001b[49m\u001b[43m]\u001b[49m\n",
      "File \u001b[1;32mc:\\Users\\bsun7\\OneDrive\\Documents\\2023-2024\\Deltahacks 10\\deltathacksX\\.venv\\Lib\\site-packages\\streamlit\\runtime\\state\\session_state.py:400\u001b[0m, in \u001b[0;36mSessionState.__getitem__\u001b[1;34m(self, key)\u001b[0m\n\u001b[0;32m    399\u001b[0m \u001b[38;5;28;01mexcept\u001b[39;00m \u001b[38;5;167;01mKeyError\u001b[39;00m:\n\u001b[1;32m--> 400\u001b[0m     \u001b[38;5;28;01mraise\u001b[39;00m \u001b[38;5;167;01mKeyError\u001b[39;00m(_missing_key_error_message(key))\n",
      "\u001b[1;31mKeyError\u001b[0m: 'st.session_state has no key \"current_card\". Did you forget to initialize it? More info: https://docs.streamlit.io/library/advanced-features/session-state#initialization'",
      "\nDuring handling of the above exception, another exception occurred:\n",
      "\u001b[1;31mAttributeError\u001b[0m                            Traceback (most recent call last)",
      "Cell \u001b[1;32mIn[32], line 15\u001b[0m\n\u001b[0;32m     12\u001b[0m     st\u001b[38;5;241m.\u001b[39msession_state\u001b[38;5;241m.\u001b[39mcurrent_card \u001b[38;5;241m=\u001b[39m \u001b[38;5;241m0\u001b[39m\n\u001b[0;32m     14\u001b[0m \u001b[38;5;66;03m# Display the current flashcard\u001b[39;00m\n\u001b[1;32m---> 15\u001b[0m st\u001b[38;5;241m.\u001b[39mwrite(\u001b[38;5;124mf\u001b[39m\u001b[38;5;124m\"\u001b[39m\u001b[38;5;124mQ: \u001b[39m\u001b[38;5;132;01m{\u001b[39;00mflashcards[\u001b[43mst\u001b[49m\u001b[38;5;241;43m.\u001b[39;49m\u001b[43msession_state\u001b[49m\u001b[38;5;241;43m.\u001b[39;49m\u001b[43mcurrent_card\u001b[49m][\u001b[38;5;124m'\u001b[39m\u001b[38;5;124mquestion\u001b[39m\u001b[38;5;124m'\u001b[39m]\u001b[38;5;132;01m}\u001b[39;00m\u001b[38;5;124m\"\u001b[39m)\n\u001b[0;32m     17\u001b[0m \u001b[38;5;66;03m# Button to show answer\u001b[39;00m\n\u001b[0;32m     18\u001b[0m \u001b[38;5;28;01mif\u001b[39;00m st\u001b[38;5;241m.\u001b[39mbutton(\u001b[38;5;124m\"\u001b[39m\u001b[38;5;124mShow Answer\u001b[39m\u001b[38;5;124m\"\u001b[39m):\n",
      "File \u001b[1;32mc:\\Users\\bsun7\\OneDrive\\Documents\\2023-2024\\Deltahacks 10\\deltathacksX\\.venv\\Lib\\site-packages\\streamlit\\runtime\\state\\session_state_proxy.py:121\u001b[0m, in \u001b[0;36mSessionStateProxy.__getattr__\u001b[1;34m(self, key)\u001b[0m\n\u001b[0;32m    119\u001b[0m     \u001b[38;5;28;01mreturn\u001b[39;00m \u001b[38;5;28mself\u001b[39m[key]\n\u001b[0;32m    120\u001b[0m \u001b[38;5;28;01mexcept\u001b[39;00m \u001b[38;5;167;01mKeyError\u001b[39;00m:\n\u001b[1;32m--> 121\u001b[0m     \u001b[38;5;28;01mraise\u001b[39;00m \u001b[38;5;167;01mAttributeError\u001b[39;00m(_missing_attr_error_message(key))\n",
      "\u001b[1;31mAttributeError\u001b[0m: st.session_state has no attribute \"current_card\". Did you forget to initialize it? More info: https://docs.streamlit.io/library/advanced-features/session-state#initialization"
     ]
    }
   ],
   "source": [
    "import streamlit as st\n",
    "\n",
    "# Example flashcards data\n",
    "flashcards = [\n",
    "    {\"question\": \"What is the capital of France?\", \"answer\": \"Paris\"},\n",
    "    {\"question\": \"What is 2+2?\", \"answer\": \"4\"},\n",
    "    # Add more flashcards here\n",
    "]\n",
    "\n",
    "# Initialize session state\n",
    "if 'current_card' not in st.session_state:\n",
    "    st.session_state.current_card = 0\n",
    "\n",
    "# Display the current flashcard\n",
    "st.write(f\"Q: {flashcards[st.session_state.current_card]['question']}\")\n",
    "\n",
    "# Button to show answer\n",
    "if st.button(\"Show Answer\"):\n",
    "    st.write(f\"A: {flashcards[st.session_state.current_card]['answer']}\")\n",
    "\n",
    "# Next card button\n",
    "if st.button(\"Next Card\"):\n",
    "    st.session_state.current_card = (st.session_state.current_card + 1) % len(flashcards)\n"
   ]
  },
  {
   "cell_type": "code",
   "execution_count": 9,
   "metadata": {},
   "outputs": [
    {
     "name": "stdout",
     "output_type": "stream",
     "text": [
      "You are a professor who is an expert in the field of anatomy. Given the following context related to anatomy, find important terms and definitions that you would ask your students to test their understanding of the topic. You can assume that your students have a basic understanding of the topic.\n",
      "    Provide a key term and its definition. Return your response in the provided format. Please denote the end of definition by appending [END] to the end of your solution:\n",
      "    \n",
      "\n",
      "    Example Response Format (DO NOT INCLUDE AS CONTEXT IN YOUR RESPONSE):\n",
      "\n",
      "    Term: Femur\n",
      "\n",
      "    Definition: The bone of the thigh or upper hind limb, articulating at the hip and the knee. [END]\n",
      "\n",
      "\n",
      "    Context: Skull: a framework of bone or cartilage enclosing the brain of a vertebrate; the skeleton of a person's or animal's head.\n",
      " Dragon: A mythical creature\n",
      "    \n",
      "\n"
     ]
    },
    {
     "data": {
      "text/plain": [
       "'Term: Skull\\nDefinition: The bony structure that surrounds and protects the brain; it is a key feature of the vertebrate skeleton and is found in the head of humans and other animals. The skull consists of several bones that fuse together, including the parietal, frontal, occipital, and temporal bones. It has openings that allow for the passage of nerves, blood vessels, and muscles, as well as openings that facilitate the eyes, ears, nose, and mouth. [END]\\n\\nWould you like me to provide another key term and definition?'"
      ]
     },
     "execution_count": 9,
     "metadata": {},
     "output_type": "execute_result"
    }
   ],
   "source": [
    "context = \"Skull: a framework of bone or cartilage enclosing the brain of a vertebrate; the skeleton of a person's or animal's head.\\n Dragon: A mythical creature\"\n",
    "topic = \"anatomy\"\n",
    "\n",
    "message = f\"\"\"You are a professor who is an expert in the field of {topic}. Given the following context related to {topic}, find important terms and definitions that you would ask your students to test their understanding of the topic. You can assume that your students have a basic understanding of the topic.\n",
    "    Provide a key term and its definition. Return your response in the provided format. Please denote the end of definition by appending [END] to the end of your solution:\n",
    "    \n",
    "\n",
    "    Example Response Format (DO NOT INCLUDE AS CONTEXT IN YOUR RESPONSE):\n",
    "\n",
    "    Term: Femur\n",
    "\n",
    "    Definition: The bone of the thigh or upper hind limb, articulating at the hip and the knee. [END]\n",
    "\n",
    "\n",
    "    Context: {context}\n",
    "    \n",
    "\"\"\"\n",
    "\n",
    "print(message)\n",
    "\n",
    "response = co.chat(\n",
    "\tmessage, \n",
    "\tmodel=\"command\", \n",
    "\ttemperature=0.0\n",
    ")\n",
    "\n",
    "answer = response.text\n",
    "answer\n"
   ]
  },
  {
   "cell_type": "code",
   "execution_count": 11,
   "metadata": {},
   "outputs": [
    {
     "name": "stdout",
     "output_type": "stream",
     "text": [
      "Collecting psycopg2-binary\n",
      "  Downloading psycopg2_binary-2.9.9-cp311-cp311-win_amd64.whl.metadata (4.6 kB)\n",
      "Downloading psycopg2_binary-2.9.9-cp311-cp311-win_amd64.whl (1.2 MB)\n",
      "   ---------------------------------------- 0.0/1.2 MB ? eta -:--:--\n",
      "   ---------------------- ----------------- 0.6/1.2 MB 13.5 MB/s eta 0:00:01\n",
      "   ---------------------------------------- 1.2/1.2 MB 12.3 MB/s eta 0:00:00\n",
      "Installing collected packages: psycopg2-binary\n",
      "Successfully installed psycopg2-binary-2.9.9\n",
      "Note: you may need to restart the kernel to use updated packages.\n"
     ]
    }
   ],
   "source": [
    "%pip install psycopg2-binary"
   ]
  },
  {
   "cell_type": "code",
   "execution_count": 3,
   "metadata": {},
   "outputs": [
    {
     "name": "stdout",
     "output_type": "stream",
     "text": [
      "An error occurred: column \"udsername\" of relation \"topics\" does not exist\n",
      "LINE 1: INSERT INTO topics (udsername, topic) VALUES ('user1', 'Math...\n",
      "                            ^\n",
      "\n"
     ]
    }
   ],
   "source": [
    "import psycopg2\n",
    "from psycopg2 import Error\n",
    "\n",
    "# Database credentials - replace with your actual credentials\n",
    "user = 'sunb26'\n",
    "password = '2CxIz0XNtoRU'\n",
    "host = 'ep-flat-hall-a5igidoi.us-east-2.aws.neon.tech'\n",
    "dbname = 'sunb26'\n",
    "sslmode = 'require'\n",
    "\n",
    "# Connect to the database\n",
    "try:\n",
    "    conn = psycopg2.connect(dbname=dbname, user=user, password=password, host=host, sslmode=sslmode)\n",
    "    cur = conn.cursor()\n",
    "\n",
    "    # List of topics to add to the database\n",
    "    topics_list = [\n",
    "        {'username': 'user1', 'topic': 'Mathematics'},\n",
    "        {'username': 'user2', 'topic': 'Physics'},\n",
    "        # Add more entries as needed\n",
    "    ]\n",
    "\n",
    "    # Iterate over the list and insert each value into the table\n",
    "    for item in topics_list:\n",
    "        try:\n",
    "            cur.execute(\"INSERT INTO topics (username, topic) VALUES (%s, %s)\", (item['username'], item['topic']))\n",
    "        except Error as e:\n",
    "            print(f\"An error occurred: {e}\")\n",
    "            conn.rollback()  # Rollback the current transaction\n",
    "            break  # Optional: break the loop if you want to stop on the first error\n",
    "\n",
    "    else:  # This else executes if no break occurs in the for loop\n",
    "        conn.commit()\n",
    "\n",
    "except Error as e:\n",
    "    print(f\"An error occurred while connecting to the database: {e}\")\n",
    "\n",
    "finally:\n",
    "    # Close the cursor and connection\n",
    "    if conn:\n",
    "        cur.close()\n",
    "        conn.close()\n"
   ]
  },
  {
   "cell_type": "code",
   "execution_count": null,
   "metadata": {},
   "outputs": [],
   "source": []
  }
 ],
 "metadata": {
  "kernelspec": {
   "display_name": ".venv",
   "language": "python",
   "name": "python3"
  },
  "language_info": {
   "codemirror_mode": {
    "name": "ipython",
    "version": 3
   },
   "file_extension": ".py",
   "mimetype": "text/x-python",
   "name": "python",
   "nbconvert_exporter": "python",
   "pygments_lexer": "ipython3",
   "version": "3.11.1"
  },
  "orig_nbformat": 4
 },
 "nbformat": 4,
 "nbformat_minor": 2
}
