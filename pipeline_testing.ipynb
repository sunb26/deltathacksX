{
 "cells": [
  {
   "cell_type": "code",
   "execution_count": 3,
   "metadata": {},
   "outputs": [],
   "source": [
    "from bs4 import BeautifulSoup\n",
    "import html2text\n",
    "\n",
    "converter = html2text.HTML2Text()\n",
    "\n",
    "def segment_html(html: str) -> list[str]:\n",
    "    # Convert markdown to HTML\n",
    "    # Parse HTML using BeautifulSoup\n",
    "    soup = BeautifulSoup(html, 'html.parser')\n",
    "    \n",
    "    # Iterate through the elements and associate headers with content\n",
    "    headers = ['title', 'h1', 'h2']\n",
    "    segments = []\n",
    "    current_header = None\n",
    "    for element in soup.children:\n",
    "        if element.name in headers:\n",
    "            current_header = element.getText()\n",
    "            segments.append(element.getText())\n",
    "        elif current_header:\n",
    "            content = converter.handle(str(element))\n",
    "            segments[-1] = segments[-1] + \" \" + content\n",
    "    return segments"
   ]
  },
  {
   "cell_type": "code",
   "execution_count": 4,
   "metadata": {},
   "outputs": [
    {
     "name": "stdout",
     "output_type": "stream",
     "text": [
      "['Anatomy Course Notes', 'Introduction to Anatomy Definition:\\n\\n \\n\\nStudy of the structure of body parts and their relationships.\\n\\n \\n\\nBranches:\\n\\n \\n\\nGross/Macroscopic, Microscopic, Developmental\\n\\n', 'The Skeletal System \\n\\nFunctions:\\n\\n \\n\\nSupport, movement, protection, blood cell production, calcium storage.\\n\\n \\n\\nBone Types:\\n\\n \\n\\nLong (femur), Short (carpals), Flat (sternum), Irregular (vertebrae)\\n\\n', 'Muscular System \\n\\nMuscle Types:\\n\\n \\n\\nSkeletal (voluntary movement), Smooth (organ walls), Cardiac (heart).\\n\\n \\n\\nFunctions:\\n\\n \\n\\nMovement, posture, joint stability, heat production.\\n\\n', 'Nervous System \\n\\nComponents:\\n\\n \\n\\nBrain, spinal cord, nerves.\\n\\n \\n\\nFunctions:\\n\\n \\n\\nRegulates and controls body functions, sensory response, motor response.\\n\\n']\n"
     ]
    }
   ],
   "source": [
    "import fitz\n",
    "\n",
    "def classify_text(text, font_size):\n",
    "    if font_size >= 18:\n",
    "        return f\"<h1>{text}</h1>\"\n",
    "    else:\n",
    "        return f\"<p>{text}</p>\"\n",
    "\n",
    "def pdf_to_html_with_headers(pdf_path):\n",
    "    doc = fitz.open(pdf_path)\n",
    "    html_content = []\n",
    "\n",
    "    for page_num in range(len(doc)):\n",
    "        page = doc.load_page(page_num)\n",
    "        blocks = page.get_text(\"dict\")[\"blocks\"]\n",
    "\n",
    "        for block in blocks:\n",
    "            if block[\"type\"] == 0:\n",
    "                for line in block[\"lines\"]:\n",
    "                    for span in line[\"spans\"]:\n",
    "                        text = span[\"text\"].strip()\n",
    "                        \n",
    "                        # Skip spans that are just a bullet point\n",
    "                        if text == \"-\":\n",
    "                            continue\n",
    "\n",
    "                        font_size = span[\"size\"]\n",
    "                        html_text = classify_text(text, font_size)\n",
    "                        html_content.append(html_text)\n",
    "\n",
    "    doc.close()\n",
    "    return \"\".join(html_content)\n",
    "\n",
    "\n",
    "\n",
    "\n",
    "pdf_path = 'notes.pdf'\n",
    "html_output = pdf_to_html_with_headers(pdf_path)\n",
    "print(segment_html(html_output))\n",
    "\n",
    "with open('output.html', 'w') as html_file:\n",
    "    html_file.write(html_output)"
   ]
  },
  {
   "cell_type": "code",
   "execution_count": 6,
   "metadata": {},
   "outputs": [
    {
     "name": "stdout",
     "output_type": "stream",
     "text": [
      "Collecting redis\n",
      "  Downloading redis-5.0.1-py3-none-any.whl.metadata (8.9 kB)\n",
      "Collecting async-timeout>=4.0.2 (from redis)\n",
      "  Downloading async_timeout-4.0.3-py3-none-any.whl.metadata (4.2 kB)\n",
      "Downloading redis-5.0.1-py3-none-any.whl (250 kB)\n",
      "   ---------------------------------------- 0.0/250.3 kB ? eta -:--:--\n",
      "   ------------------------------- -------- 194.6/250.3 kB 3.9 MB/s eta 0:00:01\n",
      "   ---------------------------------------- 250.3/250.3 kB 3.8 MB/s eta 0:00:00\n",
      "Downloading async_timeout-4.0.3-py3-none-any.whl (5.7 kB)\n",
      "Installing collected packages: async-timeout, redis\n",
      "Successfully installed async-timeout-4.0.3 redis-5.0.1\n",
      "Note: you may need to restart the kernel to use updated packages.\n"
     ]
    }
   ],
   "source": [
    "%pip install redis"
   ]
  },
  {
   "cell_type": "code",
   "execution_count": 3,
   "metadata": {},
   "outputs": [],
   "source": [
    "import redis\n",
    "from redis.commands.search.field import TextField\n",
    "from redis.commands.search.indexDefinition import IndexDefinition, IndexType\n",
    "\n",
    "r = redis.Redis(\n",
    "  host='redis-17885.c29105.us-east-1-mz.ec2.cloud.rlrcp.com',\n",
    "  port=17885,\n",
    "  password='zKPMCEBwHjoAqRyLV2YO8ZuqcQeLqBS9')\n",
    "\n",
    "\n",
    "schema = (\n",
    "    TextField(\"$.user\", as_name=\"user\"),\n",
    "    TextField(\"$.topic\", as_name=\"topic\"),\n",
    "    TextField(\"$.text\", as_name=\"text\"),\n",
    ")\n",
    "\n",
    "index = r.ft(\"idx:notes\")\n",
    "# index.create_index(\n",
    "#     schema,\n",
    "#     definition=IndexDefinition(prefix=[\"notes:\"], index_type=IndexType.JSON),\n",
    "# )\n"
   ]
  },
  {
   "cell_type": "code",
   "execution_count": 6,
   "metadata": {},
   "outputs": [],
   "source": [
    "from redis.commands.search.query import Query\n",
    "\n",
    "doc_id = \"notes:123\"\n",
    "r.json().set(doc_id, '$', {\"user\": \"joe\", \"topic\": \"example topic\", \"text\": \"example text\"})\n",
    "\n",
    "res = index.search(Query('@topic:\"example topic\"'))"
   ]
  },
  {
   "cell_type": "code",
   "execution_count": 14,
   "metadata": {},
   "outputs": [
    {
     "data": {
      "text/plain": [
       "'example text'"
      ]
     },
     "execution_count": 14,
     "metadata": {},
     "output_type": "execute_result"
    }
   ],
   "source": [
    "import json\n",
    "test = json.loads(res.docs[0].json)\n",
    "test[\"text\"]"
   ]
  },
  {
   "cell_type": "code",
   "execution_count": 2,
   "metadata": {},
   "outputs": [],
   "source": [
    "from dotenv import load_dotenv\n",
    "import os\n",
    "\n",
    "load_dotenv()\n",
    "COHERE_API_KEY = os.getenv(\"COHERE_API_KEY\")"
   ]
  },
  {
   "cell_type": "code",
   "execution_count": 3,
   "metadata": {},
   "outputs": [],
   "source": [
    "import cohere\n",
    "co = cohere.Client(COHERE_API_KEY)"
   ]
  },
  {
   "cell_type": "code",
   "execution_count": 4,
   "metadata": {},
   "outputs": [
    {
     "data": {
      "text/plain": [
       "\"Hi there! I'm an AI language model and I don't have emotions as humans do, but I'm ready to assist you with any questions or discussions you have today. How can I help you? \\n\\nIf you'd like, we can start with a topic or question, or you can just talk to me about anything that's on your mind, and I'll do my best to provide helpful responses. \\n\\nWould you like to get started with a particular topic or question?\""
      ]
     },
     "execution_count": 4,
     "metadata": {},
     "output_type": "execute_result"
    }
   ],
   "source": [
    "message = \"Hello! How are you?\"\n",
    "response = co.chat(\n",
    "\tmessage, \n",
    "\tmodel=\"command\", \n",
    "\ttemperature=0.1\n",
    ")\n",
    "\n",
    "answer = response.text\n",
    "answer"
   ]
  },
  {
   "cell_type": "code",
   "execution_count": 27,
   "metadata": {},
   "outputs": [
    {
     "data": {
      "text/plain": [
       "'01001000 01100101 01101100 01101100 01101111 00100001 00100000 01001000 01101111 01110111 00100000 01100011 01100001 01101110 00100000 01001001 00100000 01101000 01100101 01101100 01110000 00100000 01110100 01101111 01110101 01101100 01110000 00100000 01110100 01101000 01100101 01101101 00100000 01110100 01101000 01100001 01110110 01100101 00100000 01110100 01101000 01100101 01110010 00100000 01100011 01101111 01110101 00100000 01110100 01101000 01100101 01101100 00100000 01110100 01101000 01100001 01110100 00100000 01100010 01101001 01101110 01100001 01110010 00101110.\\n\\nDid you know that the string \"Hello, World!\" in binary is the same as the ASCII decimal number 48656c6c6f20776f726c6421 and in hexadecimal it is the same as the bytes 68656c6c6f20776f726c64 and the words \"Hello World\" written in octal is the same as the bytes 456c6f206c6f72656d20576f726c64, and in quaternary it is the same as the bytes 3078206c696b6520776f726c64? \\n\\nWould you like me to convert any other strings into a different number system for you today?'"
      ]
     },
     "execution_count": 27,
     "metadata": {},
     "output_type": "execute_result"
    }
   ],
   "source": []
  },
  {
   "cell_type": "code",
   "execution_count": 31,
   "metadata": {},
   "outputs": [
    {
     "name": "stdout",
     "output_type": "stream",
     "text": [
      "Collecting streamlitNote: you may need to restart the kernel to use updated packages.\n",
      "\n",
      "  Using cached streamlit-1.30.0-py2.py3-none-any.whl.metadata (8.2 kB)\n",
      "Collecting altair<6,>=4.0 (from streamlit)\n",
      "  Using cached altair-5.2.0-py3-none-any.whl.metadata (8.7 kB)\n",
      "Collecting blinker<2,>=1.0.0 (from streamlit)\n",
      "  Using cached blinker-1.7.0-py3-none-any.whl.metadata (1.9 kB)\n",
      "Collecting cachetools<6,>=4.0 (from streamlit)\n",
      "  Using cached cachetools-5.3.2-py3-none-any.whl.metadata (5.2 kB)\n",
      "Collecting click<9,>=7.0 (from streamlit)\n",
      "  Using cached click-8.1.7-py3-none-any.whl.metadata (3.0 kB)\n",
      "Requirement already satisfied: importlib-metadata<8,>=1.4 in c:\\users\\bsun7\\onedrive\\documents\\2023-2024\\deltahacks 10\\deltathacksx\\.venv\\lib\\site-packages (from streamlit) (6.11.0)\n",
      "Collecting numpy<2,>=1.19.3 (from streamlit)\n",
      "  Downloading numpy-1.26.3-cp311-cp311-win_amd64.whl.metadata (61 kB)\n",
      "     ---------------------------------------- 0.0/61.2 kB ? eta -:--:--\n",
      "     ---------------------------------------- 61.2/61.2 kB ? eta 0:00:00\n",
      "Requirement already satisfied: packaging<24,>=16.8 in c:\\users\\bsun7\\onedrive\\documents\\2023-2024\\deltahacks 10\\deltathacksx\\.venv\\lib\\site-packages (from streamlit) (23.2)\n",
      "Collecting pandas<3,>=1.3.0 (from streamlit)\n",
      "  Downloading pandas-2.1.4-cp311-cp311-win_amd64.whl.metadata (18 kB)\n",
      "Collecting pillow<11,>=7.1.0 (from streamlit)\n",
      "  Using cached pillow-10.2.0-cp311-cp311-win_amd64.whl.metadata (9.9 kB)\n",
      "Collecting protobuf<5,>=3.20 (from streamlit)\n",
      "  Using cached protobuf-4.25.2-cp310-abi3-win_amd64.whl.metadata (541 bytes)\n",
      "Collecting pyarrow>=6.0 (from streamlit)\n",
      "  Using cached pyarrow-14.0.2-cp311-cp311-win_amd64.whl.metadata (3.1 kB)\n",
      "Requirement already satisfied: python-dateutil<3,>=2.7.3 in c:\\users\\bsun7\\onedrive\\documents\\2023-2024\\deltahacks 10\\deltathacksx\\.venv\\lib\\site-packages (from streamlit) (2.8.2)\n",
      "Requirement already satisfied: requests<3,>=2.27 in c:\\users\\bsun7\\onedrive\\documents\\2023-2024\\deltahacks 10\\deltathacksx\\.venv\\lib\\site-packages (from streamlit) (2.31.0)\n",
      "Collecting rich<14,>=10.14.0 (from streamlit)\n",
      "  Using cached rich-13.7.0-py3-none-any.whl.metadata (18 kB)\n",
      "Collecting tenacity<9,>=8.1.0 (from streamlit)\n",
      "  Using cached tenacity-8.2.3-py3-none-any.whl.metadata (1.0 kB)\n",
      "Collecting toml<2,>=0.10.1 (from streamlit)\n",
      "  Using cached toml-0.10.2-py2.py3-none-any.whl (16 kB)\n",
      "Collecting typing-extensions<5,>=4.3.0 (from streamlit)\n",
      "  Using cached typing_extensions-4.9.0-py3-none-any.whl.metadata (3.0 kB)\n",
      "Collecting tzlocal<6,>=1.1 (from streamlit)\n",
      "  Using cached tzlocal-5.2-py3-none-any.whl.metadata (7.8 kB)\n",
      "Collecting validators<1,>=0.2 (from streamlit)\n",
      "  Using cached validators-0.22.0-py3-none-any.whl.metadata (4.7 kB)\n",
      "Collecting gitpython!=3.1.19,<4,>=3.0.7 (from streamlit)\n",
      "  Using cached GitPython-3.1.41-py3-none-any.whl.metadata (14 kB)\n",
      "Collecting pydeck<1,>=0.8.0b4 (from streamlit)\n",
      "  Using cached pydeck-0.8.1b0-py2.py3-none-any.whl (4.8 MB)\n",
      "Requirement already satisfied: tornado<7,>=6.0.3 in c:\\users\\bsun7\\onedrive\\documents\\2023-2024\\deltahacks 10\\deltathacksx\\.venv\\lib\\site-packages (from streamlit) (6.4)\n",
      "Collecting watchdog>=2.1.5 (from streamlit)\n",
      "  Using cached watchdog-3.0.0-py3-none-win_amd64.whl (82 kB)\n",
      "Collecting jinja2 (from altair<6,>=4.0->streamlit)\n",
      "  Downloading Jinja2-3.1.3-py3-none-any.whl.metadata (3.3 kB)\n",
      "Collecting jsonschema>=3.0 (from altair<6,>=4.0->streamlit)\n",
      "  Downloading jsonschema-4.20.0-py3-none-any.whl.metadata (8.1 kB)\n",
      "Collecting toolz (from altair<6,>=4.0->streamlit)\n",
      "  Using cached toolz-0.12.0-py3-none-any.whl (55 kB)\n",
      "Requirement already satisfied: colorama in c:\\users\\bsun7\\onedrive\\documents\\2023-2024\\deltahacks 10\\deltathacksx\\.venv\\lib\\site-packages (from click<9,>=7.0->streamlit) (0.4.6)\n",
      "Collecting gitdb<5,>=4.0.1 (from gitpython!=3.1.19,<4,>=3.0.7->streamlit)\n",
      "  Using cached gitdb-4.0.11-py3-none-any.whl.metadata (1.2 kB)\n",
      "Requirement already satisfied: zipp>=0.5 in c:\\users\\bsun7\\onedrive\\documents\\2023-2024\\deltahacks 10\\deltathacksx\\.venv\\lib\\site-packages (from importlib-metadata<8,>=1.4->streamlit) (3.17.0)\n",
      "Collecting pytz>=2020.1 (from pandas<3,>=1.3.0->streamlit)\n",
      "  Downloading pytz-2023.3.post1-py2.py3-none-any.whl.metadata (22 kB)\n",
      "Collecting tzdata>=2022.1 (from pandas<3,>=1.3.0->streamlit)\n",
      "  Using cached tzdata-2023.4-py2.py3-none-any.whl.metadata (1.4 kB)\n",
      "Requirement already satisfied: six>=1.5 in c:\\users\\bsun7\\onedrive\\documents\\2023-2024\\deltahacks 10\\deltathacksx\\.venv\\lib\\site-packages (from python-dateutil<3,>=2.7.3->streamlit) (1.16.0)\n",
      "Requirement already satisfied: charset-normalizer<4,>=2 in c:\\users\\bsun7\\onedrive\\documents\\2023-2024\\deltahacks 10\\deltathacksx\\.venv\\lib\\site-packages (from requests<3,>=2.27->streamlit) (3.3.2)\n",
      "Requirement already satisfied: idna<4,>=2.5 in c:\\users\\bsun7\\onedrive\\documents\\2023-2024\\deltahacks 10\\deltathacksx\\.venv\\lib\\site-packages (from requests<3,>=2.27->streamlit) (3.6)\n",
      "Requirement already satisfied: urllib3<3,>=1.21.1 in c:\\users\\bsun7\\onedrive\\documents\\2023-2024\\deltahacks 10\\deltathacksx\\.venv\\lib\\site-packages (from requests<3,>=2.27->streamlit) (2.1.0)\n",
      "Requirement already satisfied: certifi>=2017.4.17 in c:\\users\\bsun7\\onedrive\\documents\\2023-2024\\deltahacks 10\\deltathacksx\\.venv\\lib\\site-packages (from requests<3,>=2.27->streamlit) (2023.11.17)\n",
      "Collecting markdown-it-py>=2.2.0 (from rich<14,>=10.14.0->streamlit)\n",
      "  Using cached markdown_it_py-3.0.0-py3-none-any.whl.metadata (6.9 kB)\n",
      "Requirement already satisfied: pygments<3.0.0,>=2.13.0 in c:\\users\\bsun7\\onedrive\\documents\\2023-2024\\deltahacks 10\\deltathacksx\\.venv\\lib\\site-packages (from rich<14,>=10.14.0->streamlit) (2.17.2)\n",
      "Collecting smmap<6,>=3.0.1 (from gitdb<5,>=4.0.1->gitpython!=3.1.19,<4,>=3.0.7->streamlit)\n",
      "  Using cached smmap-5.0.1-py3-none-any.whl.metadata (4.3 kB)\n",
      "Collecting MarkupSafe>=2.0 (from jinja2->altair<6,>=4.0->streamlit)\n",
      "  Downloading MarkupSafe-2.1.3-cp311-cp311-win_amd64.whl.metadata (3.1 kB)\n",
      "Requirement already satisfied: attrs>=22.2.0 in c:\\users\\bsun7\\onedrive\\documents\\2023-2024\\deltahacks 10\\deltathacksx\\.venv\\lib\\site-packages (from jsonschema>=3.0->altair<6,>=4.0->streamlit) (23.2.0)\n",
      "Collecting jsonschema-specifications>=2023.03.6 (from jsonschema>=3.0->altair<6,>=4.0->streamlit)\n",
      "  Downloading jsonschema_specifications-2023.12.1-py3-none-any.whl.metadata (3.0 kB)\n",
      "Collecting referencing>=0.28.4 (from jsonschema>=3.0->altair<6,>=4.0->streamlit)\n",
      "  Downloading referencing-0.32.1-py3-none-any.whl.metadata (2.7 kB)\n",
      "Collecting rpds-py>=0.7.1 (from jsonschema>=3.0->altair<6,>=4.0->streamlit)\n",
      "  Downloading rpds_py-0.17.1-cp311-none-win_amd64.whl.metadata (4.2 kB)\n",
      "Collecting mdurl~=0.1 (from markdown-it-py>=2.2.0->rich<14,>=10.14.0->streamlit)\n",
      "  Using cached mdurl-0.1.2-py3-none-any.whl (10.0 kB)\n",
      "Using cached streamlit-1.30.0-py2.py3-none-any.whl (8.4 MB)\n",
      "Using cached altair-5.2.0-py3-none-any.whl (996 kB)\n",
      "Using cached blinker-1.7.0-py3-none-any.whl (13 kB)\n",
      "Using cached cachetools-5.3.2-py3-none-any.whl (9.3 kB)\n",
      "Using cached click-8.1.7-py3-none-any.whl (97 kB)\n",
      "Using cached GitPython-3.1.41-py3-none-any.whl (196 kB)\n",
      "Downloading numpy-1.26.3-cp311-cp311-win_amd64.whl (15.8 MB)\n",
      "   ---------------------------------------- 0.0/15.8 MB ? eta -:--:--\n",
      "   - -------------------------------------- 0.7/15.8 MB 15.5 MB/s eta 0:00:01\n",
      "   --- ------------------------------------ 1.5/15.8 MB 15.7 MB/s eta 0:00:01\n",
      "   ----- ---------------------------------- 2.2/15.8 MB 15.7 MB/s eta 0:00:01\n",
      "   ------- -------------------------------- 3.0/15.8 MB 16.1 MB/s eta 0:00:01\n",
      "   --------- ------------------------------ 3.8/15.8 MB 16.3 MB/s eta 0:00:01\n",
      "   ----------- ---------------------------- 4.7/15.8 MB 16.7 MB/s eta 0:00:01\n",
      "   ------------- -------------------------- 5.5/15.8 MB 16.8 MB/s eta 0:00:01\n",
      "   --------------- ------------------------ 6.2/15.8 MB 16.6 MB/s eta 0:00:01\n",
      "   ----------------- ---------------------- 6.9/15.8 MB 17.0 MB/s eta 0:00:01\n",
      "   ------------------ --------------------- 7.5/15.8 MB 16.5 MB/s eta 0:00:01\n",
      "   --------------------- ------------------ 8.3/15.8 MB 16.7 MB/s eta 0:00:01\n",
      "   ----------------------- ---------------- 9.1/15.8 MB 16.7 MB/s eta 0:00:01\n",
      "   ------------------------ --------------- 9.9/15.8 MB 16.6 MB/s eta 0:00:01\n",
      "   -------------------------- ------------- 10.7/15.8 MB 16.8 MB/s eta 0:00:01\n",
      "   ---------------------------- ----------- 11.4/15.8 MB 16.8 MB/s eta 0:00:01\n",
      "   ------------------------------ --------- 12.0/15.8 MB 17.2 MB/s eta 0:00:01\n",
      "   -------------------------------- ------- 12.9/15.8 MB 17.2 MB/s eta 0:00:01\n",
      "   ---------------------------------- ----- 13.7/15.8 MB 17.2 MB/s eta 0:00:01\n",
      "   ------------------------------------ --- 14.5/15.8 MB 17.7 MB/s eta 0:00:01\n",
      "   -------------------------------------- - 15.3/15.8 MB 17.2 MB/s eta 0:00:01\n",
      "   ---------------------------------------  15.8/15.8 MB 17.2 MB/s eta 0:00:01\n",
      "   ---------------------------------------- 15.8/15.8 MB 16.4 MB/s eta 0:00:00\n",
      "Downloading pandas-2.1.4-cp311-cp311-win_amd64.whl (10.6 MB)\n",
      "   ---------------------------------------- 0.0/10.6 MB ? eta -:--:--\n",
      "   --- ------------------------------------ 0.9/10.6 MB 26.6 MB/s eta 0:00:01\n",
      "   ------ --------------------------------- 1.6/10.6 MB 20.2 MB/s eta 0:00:01\n",
      "   -------- ------------------------------- 2.4/10.6 MB 19.0 MB/s eta 0:00:01\n",
      "   ------------ --------------------------- 3.3/10.6 MB 18.9 MB/s eta 0:00:01\n",
      "   -------------- ------------------------- 4.0/10.6 MB 19.4 MB/s eta 0:00:01\n",
      "   ----------------- ---------------------- 4.7/10.6 MB 18.9 MB/s eta 0:00:01\n",
      "   ------------------ --------------------- 4.9/10.6 MB 18.4 MB/s eta 0:00:01\n",
      "   ------------------ --------------------- 4.9/10.6 MB 18.4 MB/s eta 0:00:01\n",
      "   ------------------ --------------------- 4.9/10.6 MB 18.4 MB/s eta 0:00:01\n",
      "   ------------------ --------------------- 4.9/10.6 MB 18.4 MB/s eta 0:00:01\n",
      "   ------------------ --------------------- 4.9/10.6 MB 18.4 MB/s eta 0:00:01\n",
      "   ------------------ --------------------- 4.9/10.6 MB 18.4 MB/s eta 0:00:01\n",
      "   ------------------ --------------------- 4.9/10.6 MB 18.4 MB/s eta 0:00:01\n",
      "   ------------------ --------------------- 5.0/10.6 MB 8.0 MB/s eta 0:00:01\n",
      "   --------------------- ------------------ 5.6/10.6 MB 8.4 MB/s eta 0:00:01\n",
      "   ------------------------ --------------- 6.5/10.6 MB 9.0 MB/s eta 0:00:01\n",
      "   --------------------------- ------------ 7.3/10.6 MB 9.5 MB/s eta 0:00:01\n",
      "   ------------------------------ --------- 8.2/10.6 MB 10.1 MB/s eta 0:00:01\n",
      "   --------------------------------- ------ 9.0/10.6 MB 10.4 MB/s eta 0:00:01\n",
      "   ------------------------------------ --- 9.7/10.6 MB 10.7 MB/s eta 0:00:01\n",
      "   ---------------------------------------  10.5/10.6 MB 10.9 MB/s eta 0:00:01\n",
      "   ---------------------------------------- 10.6/10.6 MB 10.6 MB/s eta 0:00:00\n",
      "Using cached pillow-10.2.0-cp311-cp311-win_amd64.whl (2.6 MB)\n",
      "Using cached protobuf-4.25.2-cp310-abi3-win_amd64.whl (413 kB)\n",
      "Using cached pyarrow-14.0.2-cp311-cp311-win_amd64.whl (24.6 MB)\n",
      "Using cached rich-13.7.0-py3-none-any.whl (240 kB)\n",
      "Using cached tenacity-8.2.3-py3-none-any.whl (24 kB)\n",
      "Using cached typing_extensions-4.9.0-py3-none-any.whl (32 kB)\n",
      "Using cached tzlocal-5.2-py3-none-any.whl (17 kB)\n",
      "Using cached validators-0.22.0-py3-none-any.whl (26 kB)\n",
      "Using cached gitdb-4.0.11-py3-none-any.whl (62 kB)\n",
      "Downloading Jinja2-3.1.3-py3-none-any.whl (133 kB)\n",
      "   ---------------------------------------- 0.0/133.2 kB ? eta -:--:--\n",
      "   ---------------------------------------- 133.2/133.2 kB 8.2 MB/s eta 0:00:00\n",
      "Downloading jsonschema-4.20.0-py3-none-any.whl (84 kB)\n",
      "   ---------------------------------------- 0.0/84.7 kB ? eta -:--:--\n",
      "   ---------------------------------------- 84.7/84.7 kB 5.0 MB/s eta 0:00:00\n",
      "Using cached markdown_it_py-3.0.0-py3-none-any.whl (87 kB)\n",
      "Downloading pytz-2023.3.post1-py2.py3-none-any.whl (502 kB)\n",
      "   ---------------------------------------- 0.0/502.5 kB ? eta -:--:--\n",
      "   --------------------------------------- 502.5/502.5 kB 30.8 MB/s eta 0:00:00\n",
      "Using cached tzdata-2023.4-py2.py3-none-any.whl (346 kB)\n",
      "Downloading jsonschema_specifications-2023.12.1-py3-none-any.whl (18 kB)\n",
      "Downloading MarkupSafe-2.1.3-cp311-cp311-win_amd64.whl (17 kB)\n",
      "Downloading referencing-0.32.1-py3-none-any.whl (26 kB)\n",
      "Downloading rpds_py-0.17.1-cp311-none-win_amd64.whl (205 kB)\n",
      "   ---------------------------------------- 0.0/205.9 kB ? eta -:--:--\n",
      "   --------------------------------------- 205.9/205.9 kB 12.2 MB/s eta 0:00:00\n",
      "Using cached smmap-5.0.1-py3-none-any.whl (24 kB)\n",
      "Installing collected packages: pytz, watchdog, validators, tzdata, typing-extensions, toolz, toml, tenacity, smmap, rpds-py, protobuf, pillow, numpy, mdurl, MarkupSafe, click, cachetools, blinker, tzlocal, referencing, pyarrow, pandas, markdown-it-py, jinja2, gitdb, rich, pydeck, jsonschema-specifications, gitpython, jsonschema, altair, streamlit\n",
      "Successfully installed MarkupSafe-2.1.3 altair-5.2.0 blinker-1.7.0 cachetools-5.3.2 click-8.1.7 gitdb-4.0.11 gitpython-3.1.41 jinja2-3.1.3 jsonschema-4.20.0 jsonschema-specifications-2023.12.1 markdown-it-py-3.0.0 mdurl-0.1.2 numpy-1.26.3 pandas-2.1.4 pillow-10.2.0 protobuf-4.25.2 pyarrow-14.0.2 pydeck-0.8.1b0 pytz-2023.3.post1 referencing-0.32.1 rich-13.7.0 rpds-py-0.17.1 smmap-5.0.1 streamlit-1.30.0 tenacity-8.2.3 toml-0.10.2 toolz-0.12.0 typing-extensions-4.9.0 tzdata-2023.4 tzlocal-5.2 validators-0.22.0 watchdog-3.0.0\n"
     ]
    }
   ],
   "source": [
    "%pip install streamlit"
   ]
  },
  {
   "cell_type": "code",
   "execution_count": 32,
   "metadata": {},
   "outputs": [
    {
     "name": "stderr",
     "output_type": "stream",
     "text": [
      "2024-01-13 15:24:09.286 WARNING streamlit.runtime.state.session_state_proxy: Session state does not function when running a script without `streamlit run`\n"
     ]
    },
    {
     "ename": "AttributeError",
     "evalue": "st.session_state has no attribute \"current_card\". Did you forget to initialize it? More info: https://docs.streamlit.io/library/advanced-features/session-state#initialization",
     "output_type": "error",
     "traceback": [
      "\u001b[1;31m---------------------------------------------------------------------------\u001b[0m",
      "\u001b[1;31mKeyError\u001b[0m                                  Traceback (most recent call last)",
      "File \u001b[1;32mc:\\Users\\bsun7\\OneDrive\\Documents\\2023-2024\\Deltahacks 10\\deltathacksX\\.venv\\Lib\\site-packages\\streamlit\\runtime\\state\\session_state.py:398\u001b[0m, in \u001b[0;36mSessionState.__getitem__\u001b[1;34m(self, key)\u001b[0m\n\u001b[0;32m    397\u001b[0m \u001b[38;5;28;01mtry\u001b[39;00m:\n\u001b[1;32m--> 398\u001b[0m     \u001b[38;5;28;01mreturn\u001b[39;00m \u001b[38;5;28;43mself\u001b[39;49m\u001b[38;5;241;43m.\u001b[39;49m\u001b[43m_getitem\u001b[49m\u001b[43m(\u001b[49m\u001b[43mwidget_id\u001b[49m\u001b[43m,\u001b[49m\u001b[43m \u001b[49m\u001b[43mkey\u001b[49m\u001b[43m)\u001b[49m\n\u001b[0;32m    399\u001b[0m \u001b[38;5;28;01mexcept\u001b[39;00m \u001b[38;5;167;01mKeyError\u001b[39;00m:\n",
      "File \u001b[1;32mc:\\Users\\bsun7\\OneDrive\\Documents\\2023-2024\\Deltahacks 10\\deltathacksX\\.venv\\Lib\\site-packages\\streamlit\\runtime\\state\\session_state.py:443\u001b[0m, in \u001b[0;36mSessionState._getitem\u001b[1;34m(self, widget_id, user_key)\u001b[0m\n\u001b[0;32m    442\u001b[0m \u001b[38;5;66;03m# We'll never get here\u001b[39;00m\n\u001b[1;32m--> 443\u001b[0m \u001b[38;5;28;01mraise\u001b[39;00m \u001b[38;5;167;01mKeyError\u001b[39;00m\n",
      "\u001b[1;31mKeyError\u001b[0m: ",
      "\nDuring handling of the above exception, another exception occurred:\n",
      "\u001b[1;31mKeyError\u001b[0m                                  Traceback (most recent call last)",
      "File \u001b[1;32mc:\\Users\\bsun7\\OneDrive\\Documents\\2023-2024\\Deltahacks 10\\deltathacksX\\.venv\\Lib\\site-packages\\streamlit\\runtime\\state\\session_state_proxy.py:119\u001b[0m, in \u001b[0;36mSessionStateProxy.__getattr__\u001b[1;34m(self, key)\u001b[0m\n\u001b[0;32m    118\u001b[0m \u001b[38;5;28;01mtry\u001b[39;00m:\n\u001b[1;32m--> 119\u001b[0m     \u001b[38;5;28;01mreturn\u001b[39;00m \u001b[38;5;28;43mself\u001b[39;49m\u001b[43m[\u001b[49m\u001b[43mkey\u001b[49m\u001b[43m]\u001b[49m\n\u001b[0;32m    120\u001b[0m \u001b[38;5;28;01mexcept\u001b[39;00m \u001b[38;5;167;01mKeyError\u001b[39;00m:\n",
      "File \u001b[1;32mc:\\Users\\bsun7\\OneDrive\\Documents\\2023-2024\\Deltahacks 10\\deltathacksX\\.venv\\Lib\\site-packages\\streamlit\\runtime\\state\\session_state_proxy.py:90\u001b[0m, in \u001b[0;36mSessionStateProxy.__getitem__\u001b[1;34m(self, key)\u001b[0m\n\u001b[0;32m     89\u001b[0m require_valid_user_key(key)\n\u001b[1;32m---> 90\u001b[0m \u001b[38;5;28;01mreturn\u001b[39;00m \u001b[43mget_session_state\u001b[49m\u001b[43m(\u001b[49m\u001b[43m)\u001b[49m\u001b[43m[\u001b[49m\u001b[43mkey\u001b[49m\u001b[43m]\u001b[49m\n",
      "File \u001b[1;32mc:\\Users\\bsun7\\OneDrive\\Documents\\2023-2024\\Deltahacks 10\\deltathacksX\\.venv\\Lib\\site-packages\\streamlit\\runtime\\state\\safe_session_state.py:91\u001b[0m, in \u001b[0;36mSafeSessionState.__getitem__\u001b[1;34m(self, key)\u001b[0m\n\u001b[0;32m     90\u001b[0m \u001b[38;5;28;01mwith\u001b[39;00m \u001b[38;5;28mself\u001b[39m\u001b[38;5;241m.\u001b[39m_lock:\n\u001b[1;32m---> 91\u001b[0m     \u001b[38;5;28;01mreturn\u001b[39;00m \u001b[38;5;28;43mself\u001b[39;49m\u001b[38;5;241;43m.\u001b[39;49m\u001b[43m_state\u001b[49m\u001b[43m[\u001b[49m\u001b[43mkey\u001b[49m\u001b[43m]\u001b[49m\n",
      "File \u001b[1;32mc:\\Users\\bsun7\\OneDrive\\Documents\\2023-2024\\Deltahacks 10\\deltathacksX\\.venv\\Lib\\site-packages\\streamlit\\runtime\\state\\session_state.py:400\u001b[0m, in \u001b[0;36mSessionState.__getitem__\u001b[1;34m(self, key)\u001b[0m\n\u001b[0;32m    399\u001b[0m \u001b[38;5;28;01mexcept\u001b[39;00m \u001b[38;5;167;01mKeyError\u001b[39;00m:\n\u001b[1;32m--> 400\u001b[0m     \u001b[38;5;28;01mraise\u001b[39;00m \u001b[38;5;167;01mKeyError\u001b[39;00m(_missing_key_error_message(key))\n",
      "\u001b[1;31mKeyError\u001b[0m: 'st.session_state has no key \"current_card\". Did you forget to initialize it? More info: https://docs.streamlit.io/library/advanced-features/session-state#initialization'",
      "\nDuring handling of the above exception, another exception occurred:\n",
      "\u001b[1;31mAttributeError\u001b[0m                            Traceback (most recent call last)",
      "Cell \u001b[1;32mIn[32], line 15\u001b[0m\n\u001b[0;32m     12\u001b[0m     st\u001b[38;5;241m.\u001b[39msession_state\u001b[38;5;241m.\u001b[39mcurrent_card \u001b[38;5;241m=\u001b[39m \u001b[38;5;241m0\u001b[39m\n\u001b[0;32m     14\u001b[0m \u001b[38;5;66;03m# Display the current flashcard\u001b[39;00m\n\u001b[1;32m---> 15\u001b[0m st\u001b[38;5;241m.\u001b[39mwrite(\u001b[38;5;124mf\u001b[39m\u001b[38;5;124m\"\u001b[39m\u001b[38;5;124mQ: \u001b[39m\u001b[38;5;132;01m{\u001b[39;00mflashcards[\u001b[43mst\u001b[49m\u001b[38;5;241;43m.\u001b[39;49m\u001b[43msession_state\u001b[49m\u001b[38;5;241;43m.\u001b[39;49m\u001b[43mcurrent_card\u001b[49m][\u001b[38;5;124m'\u001b[39m\u001b[38;5;124mquestion\u001b[39m\u001b[38;5;124m'\u001b[39m]\u001b[38;5;132;01m}\u001b[39;00m\u001b[38;5;124m\"\u001b[39m)\n\u001b[0;32m     17\u001b[0m \u001b[38;5;66;03m# Button to show answer\u001b[39;00m\n\u001b[0;32m     18\u001b[0m \u001b[38;5;28;01mif\u001b[39;00m st\u001b[38;5;241m.\u001b[39mbutton(\u001b[38;5;124m\"\u001b[39m\u001b[38;5;124mShow Answer\u001b[39m\u001b[38;5;124m\"\u001b[39m):\n",
      "File \u001b[1;32mc:\\Users\\bsun7\\OneDrive\\Documents\\2023-2024\\Deltahacks 10\\deltathacksX\\.venv\\Lib\\site-packages\\streamlit\\runtime\\state\\session_state_proxy.py:121\u001b[0m, in \u001b[0;36mSessionStateProxy.__getattr__\u001b[1;34m(self, key)\u001b[0m\n\u001b[0;32m    119\u001b[0m     \u001b[38;5;28;01mreturn\u001b[39;00m \u001b[38;5;28mself\u001b[39m[key]\n\u001b[0;32m    120\u001b[0m \u001b[38;5;28;01mexcept\u001b[39;00m \u001b[38;5;167;01mKeyError\u001b[39;00m:\n\u001b[1;32m--> 121\u001b[0m     \u001b[38;5;28;01mraise\u001b[39;00m \u001b[38;5;167;01mAttributeError\u001b[39;00m(_missing_attr_error_message(key))\n",
      "\u001b[1;31mAttributeError\u001b[0m: st.session_state has no attribute \"current_card\". Did you forget to initialize it? More info: https://docs.streamlit.io/library/advanced-features/session-state#initialization"
     ]
    }
   ],
   "source": [
    "import streamlit as st\n",
    "\n",
    "# Example flashcards data\n",
    "flashcards = [\n",
    "    {\"question\": \"What is the capital of France?\", \"answer\": \"Paris\"},\n",
    "    {\"question\": \"What is 2+2?\", \"answer\": \"4\"},\n",
    "    # Add more flashcards here\n",
    "]\n",
    "\n",
    "# Initialize session state\n",
    "if 'current_card' not in st.session_state:\n",
    "    st.session_state.current_card = 0\n",
    "\n",
    "# Display the current flashcard\n",
    "st.write(f\"Q: {flashcards[st.session_state.current_card]['question']}\")\n",
    "\n",
    "# Button to show answer\n",
    "if st.button(\"Show Answer\"):\n",
    "    st.write(f\"A: {flashcards[st.session_state.current_card]['answer']}\")\n",
    "\n",
    "# Next card button\n",
    "if st.button(\"Next Card\"):\n",
    "    st.session_state.current_card = (st.session_state.current_card + 1) % len(flashcards)\n"
   ]
  },
  {
   "cell_type": "code",
   "execution_count": 8,
   "metadata": {},
   "outputs": [
    {
     "name": "stdout",
     "output_type": "stream",
     "text": [
      "You are a professor who is an expert in the field of {topic}. Given the following context related to {topic}, find important terms and definitions that you would ask your students to test their understanding of the topic. You can assume that your students have a basic understanding of the topic.\n",
      "    Provide a key term and its definition. Return your response in the provided format. Please denote the end of definition by appending [END] to the end of your solution:\n",
      "    \n",
      "\n",
      "    Example Response Format (DO NOT INCLUDE AS CONTEXT IN YOUR RESPONSE):\n",
      "\n",
      "    Term: Femur\n",
      "\n",
      "    Definition: The bone of the thigh or upper hind limb, articulating at the hip and the knee. [END]\n",
      "\n",
      "\n",
      "    Context: {context}\n",
      "    \n",
      "\n"
     ]
    },
    {
     "data": {
      "text/plain": [
       "'Term: Electromagnetic spectrum\\n\\nDefinition: The electromagnetic spectrum refers to the range of all types of electromagnetic radiation, ranging from low-frequency radio waves to high-frequency gamma rays. These waves differ in their wavelengths and frequencies, but they all share the common characteristic of being produced by the oscillation of electromagnetic charges.\\n\\nRadio waves, for instance, are utilized in communication technologies such as radio and television broadcasting, while visible light is the spectrum portion that is visible to the human eye and responsible for the colors we perceive. On the other hand, high-energy electromagnetic radiation such as X-rays and gamma rays find applications in medical imaging and cancer treatment, respectively.\\n\\nUnderstanding the electromagnetic spectrum is crucial as it underpins many modern technologies and facilitates our understanding of how electromagnetic radiation interacts with matter. [END]\\n\\nWould you like me to define another key term?'"
      ]
     },
     "execution_count": 8,
     "metadata": {},
     "output_type": "execute_result"
    }
   ],
   "source": [
    "context = \"Skull: a framework of bone or cartilage enclosing the brain of a vertebrate; the skeleton of a person's or animal's head.\\n Dragon: A mythical creature\"\n",
    "topic = \"anatomy\"\n",
    "\n",
    "message = f\"\"\"You are a professor who is an expert in the field of {topic}. Given the following context related to {topic}, find important terms and definitions that you would ask your students to test their understanding of the topic. You can assume that your students have a basic understanding of the topic.\n",
    "    Provide a key term and its definition. Return your response in the provided format. Please denote the end of definition by appending [END] to the end of your solution:\n",
    "    \n",
    "\n",
    "    Example Response Format (DO NOT INCLUDE AS CONTEXT IN YOUR RESPONSE):\n",
    "\n",
    "    Term: Femur\n",
    "\n",
    "    Definition: The bone of the thigh or upper hind limb, articulating at the hip and the knee. [END]\n",
    "\n",
    "\n",
    "    Context: {context}\n",
    "    \n",
    "\"\"\"\n",
    "\n",
    "print(message)\n",
    "\n",
    "response = co.chat(\n",
    "\tmessage, \n",
    "\tmodel=\"command\", \n",
    "\ttemperature=0.0\n",
    ")\n",
    "\n",
    "answer = response.text\n",
    "answer\n"
   ]
  },
  {
   "cell_type": "code",
   "execution_count": null,
   "metadata": {},
   "outputs": [],
   "source": []
  }
 ],
 "metadata": {
  "kernelspec": {
   "display_name": ".venv",
   "language": "python",
   "name": "python3"
  },
  "language_info": {
   "codemirror_mode": {
    "name": "ipython",
    "version": 3
   },
   "file_extension": ".py",
   "mimetype": "text/x-python",
   "name": "python",
   "nbconvert_exporter": "python",
   "pygments_lexer": "ipython3",
   "version": "3.11.1"
  },
  "orig_nbformat": 4
 },
 "nbformat": 4,
 "nbformat_minor": 2
}
