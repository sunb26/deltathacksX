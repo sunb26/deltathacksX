{
 "cells": [
  {
   "cell_type": "code",
   "execution_count": 26,
   "metadata": {},
   "outputs": [],
   "source": [
    "from bs4 import BeautifulSoup\n",
    "import html2text\n",
    "\n",
    "converter = html2text.HTML2Text()\n",
    "\n",
    "def segment_html(html: str) -> list[str]:\n",
    "    # Convert markdown to HTML\n",
    "    # Parse HTML using BeautifulSoup\n",
    "    soup = BeautifulSoup(html, 'html.parser')\n",
    "    \n",
    "    # Iterate through the elements and associate headers with content\n",
    "    headers = ['title', 'h1', 'h2']\n",
    "    segments = []\n",
    "    current_header = None\n",
    "    for element in soup.children:\n",
    "        if element.name in headers:\n",
    "            current_header = element.getText()\n",
    "            segments.append(element.getText())\n",
    "        elif current_header:\n",
    "            content = converter.handle(str(element))\n",
    "            segments[-1] = segments[-1] + \" \" + content\n",
    "    return segments"
   ]
  },
  {
   "cell_type": "code",
   "execution_count": 28,
   "metadata": {},
   "outputs": [
    {
     "name": "stdout",
     "output_type": "stream",
     "text": [
      "['Anatomy Course Notes', 'Introduction to Anatomy \\n\\nDefinition:\\n\\n \\n\\nStudy of the structure of body parts and their relationships.\\n\\n \\n\\nBranches:\\n\\n \\n\\nGross/Macroscopic, Microscopic, Developmental\\n\\n', 'The Skeletal System \\n\\nFunctions:\\n\\n \\n\\nSupport, movement, protection, blood cell production, calcium storage.\\n\\n \\n\\nBone Types:\\n\\n \\n\\nLong (femur), Short (carpals), Flat (sternum), Irregular (vertebrae)\\n\\n', 'Muscular System \\n\\nMuscle Types:\\n\\n \\n\\nSkeletal (voluntary movement), Smooth (organ walls), Cardiac (heart).\\n\\n \\n\\nFunctions:\\n\\n \\n\\nMovement, posture, joint stability, heat production.\\n\\n', 'Nervous System \\n\\nComponents:\\n\\n \\n\\nBrain, spinal cord, nerves.\\n\\n \\n\\nFunctions:\\n\\n \\n\\nRegulates and controls body functions, sensory response, motor response.\\n\\n']\n"
     ]
    }
   ],
   "source": [
    "import fitz\n",
    "\n",
    "def classify_text(text, font_size):\n",
    "    if font_size >= 18:\n",
    "        return f\"<h1>{text}</h1>\"\n",
    "    else:\n",
    "        return f\"<p>{text}</p>\"\n",
    "\n",
    "def pdf_to_html_with_headers(pdf_path):\n",
    "    doc = fitz.open(pdf_path)\n",
    "    html_content = []\n",
    "\n",
    "    for page_num in range(len(doc)):\n",
    "        page = doc.load_page(page_num)\n",
    "        blocks = page.get_text(\"dict\")[\"blocks\"]\n",
    "\n",
    "        for block in blocks:\n",
    "            if block[\"type\"] == 0:\n",
    "                for line in block[\"lines\"]:\n",
    "                    for span in line[\"spans\"]:\n",
    "                        text = span[\"text\"].strip()\n",
    "                        \n",
    "                        # Skip spans that are just a bullet point\n",
    "                        if text == \"-\":\n",
    "                            continue\n",
    "\n",
    "                        font_size = span[\"size\"]\n",
    "                        html_text = classify_text(text, font_size)\n",
    "                        html_content.append(html_text)\n",
    "\n",
    "    doc.close()\n",
    "    return \"\".join(html_content)\n",
    "\n",
    "\n",
    "\n",
    "\n",
    "pdf_path = 'notes.pdf'\n",
    "html_output = pdf_to_html_with_headers(pdf_path)\n",
    "print(segment_html(html_output))\n",
    "\n",
    "with open('output.html', 'w') as html_file:\n",
    "    html_file.write(html_output)"
   ]
  },
  {
   "cell_type": "code",
   "execution_count": 25,
   "metadata": {},
   "outputs": [],
   "source": []
  },
  {
   "cell_type": "code",
   "execution_count": null,
   "metadata": {},
   "outputs": [
    {
     "name": "stdout",
     "output_type": "stream",
     "text": [
      "Note: you may need to restart the kernel to use updated packages.\n"
     ]
    }
   ],
   "source": [
    "%pip install bs4"
   ]
  },
  {
   "cell_type": "code",
   "execution_count": 24,
   "metadata": {},
   "outputs": [
    {
     "name": "stdout",
     "output_type": "stream",
     "text": [
      "^C\n",
      "Note: you may need to restart the kernel to use updated packages.\n"
     ]
    }
   ],
   "source": [
    "%pip uninstall aspose-pdfcd "
   ]
  },
  {
   "cell_type": "code",
   "execution_count": 5,
   "metadata": {},
   "outputs": [],
   "source": [
    "\n",
    "import aspose.pdf as ap\n",
    "\n",
    "input_pdf = \"notes.pdf\"\n",
    "output_pdf = \"convert_pdf_to_html.html\"\n",
    "# Open PDF document\n",
    "document = ap.Document(input_pdf)\n",
    "\n",
    "# save document in HTML format\n",
    "save_options = ap.HtmlSaveOptions()\n",
    "document.save(output_pdf, save_options)"
   ]
  },
  {
   "cell_type": "code",
   "execution_count": null,
   "metadata": {},
   "outputs": [],
   "source": []
  }
 ],
 "metadata": {
  "kernelspec": {
   "display_name": ".venv",
   "language": "python",
   "name": "python3"
  },
  "language_info": {
   "codemirror_mode": {
    "name": "ipython",
    "version": 3
   },
   "file_extension": ".py",
   "mimetype": "text/x-python",
   "name": "python",
   "nbconvert_exporter": "python",
   "pygments_lexer": "ipython3",
   "version": "3.11.1"
  },
  "orig_nbformat": 4
 },
 "nbformat": 4,
 "nbformat_minor": 2
}
